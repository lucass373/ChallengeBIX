{
 "cells": [
  {
   "cell_type": "markdown",
   "metadata": {},
   "source": [
    "## Importing the libraries"
   ]
  },
  {
   "cell_type": "code",
   "execution_count": 57,
   "metadata": {},
   "outputs": [],
   "source": [
    "import pandas as pd\n",
    "import matplotlib.pyplot as plt\n",
    "import seaborn as sns\n",
    "from sklearn.impute import SimpleImputer\n",
    "from sklearn.preprocessing import LabelEncoder\n",
    "from sklearn.model_selection import train_test_split\n",
    "from sklearn.ensemble import RandomForestClassifier\n",
    "from sklearn.tree import DecisionTreeClassifier\n",
    "from sklearn.linear_model import LogisticRegression\n",
    "from sklearn.metrics import accuracy_score, precision_score, recall_score, f1_score, classification_report,roc_auc_score\n",
    "import numpy as np\n",
    "from imblearn.over_sampling import SMOTE"
   ]
  },
  {
   "cell_type": "markdown",
   "metadata": {},
   "source": [
    "## Importing the dataset"
   ]
  },
  {
   "cell_type": "code",
   "execution_count": 58,
   "metadata": {},
   "outputs": [],
   "source": [
    "# Carregar os dados\n",
    "data = pd.read_csv('air_system_present_year.csv')"
   ]
  },
  {
   "cell_type": "markdown",
   "metadata": {},
   "source": [
    "## Verificando linhas duplicadas"
   ]
  },
  {
   "cell_type": "code",
   "execution_count": 59,
   "metadata": {},
   "outputs": [
    {
     "data": {
      "text/plain": [
       "np.int64(0)"
      ]
     },
     "execution_count": 59,
     "metadata": {},
     "output_type": "execute_result"
    }
   ],
   "source": [
    "data.duplicated().sum()"
   ]
  },
  {
   "cell_type": "markdown",
   "metadata": {},
   "source": [
    "## Separate features (X) and target (y)"
   ]
  },
  {
   "cell_type": "code",
   "execution_count": 60,
   "metadata": {},
   "outputs": [],
   "source": [
    "X = data.drop(columns=['class'])\n",
    "y = data['class']"
   ]
  },
  {
   "cell_type": "markdown",
   "metadata": {},
   "source": [
    "## Replace 'na' with NaN to represent missing values"
   ]
  },
  {
   "cell_type": "code",
   "execution_count": 61,
   "metadata": {},
   "outputs": [],
   "source": [
    "X.replace('na', np.nan, inplace=True)"
   ]
  },
  {
   "cell_type": "markdown",
   "metadata": {},
   "source": [
    "## Taking care of missing data"
   ]
  },
  {
   "cell_type": "code",
   "execution_count": 62,
   "metadata": {},
   "outputs": [
    {
     "name": "stdout",
     "output_type": "stream",
     "text": [
      "0      0\n",
      "1      0\n",
      "2      0\n",
      "3      0\n",
      "4      0\n",
      "      ..\n",
      "165    0\n",
      "166    0\n",
      "167    0\n",
      "168    0\n",
      "169    0\n",
      "Length: 170, dtype: int64\n"
     ]
    }
   ],
   "source": [
    "imputer = SimpleImputer(missing_values=np.nan, strategy='mean') # Initializing the imputer with the mean strategy\n",
    "imputer.fit(X) # Fitting the imputer to the data\n",
    "X= imputer.transform(X) # Transforming the data with missing values replaced by the mean\n",
    "X = pd.DataFrame(X) # Converting back to DataFrame for easy manipulation\n",
    "\n",
    "missing_values = X.isnull().sum()\n",
    "print(missing_values)"
   ]
  },
  {
   "cell_type": "markdown",
   "metadata": {},
   "source": [
    "## Check for missing values"
   ]
  },
  {
   "cell_type": "code",
   "execution_count": 63,
   "metadata": {},
   "outputs": [
    {
     "name": "stdout",
     "output_type": "stream",
     "text": [
      "0      0\n",
      "1      0\n",
      "2      0\n",
      "3      0\n",
      "4      0\n",
      "      ..\n",
      "165    0\n",
      "166    0\n",
      "167    0\n",
      "168    0\n",
      "169    0\n",
      "Length: 170, dtype: int64\n"
     ]
    }
   ],
   "source": [
    "missing_values = X.isnull().sum()\n",
    "print(missing_values)"
   ]
  },
  {
   "cell_type": "markdown",
   "metadata": {},
   "source": [
    "## Encoding the Dependent Variable"
   ]
  },
  {
   "cell_type": "code",
   "execution_count": 64,
   "metadata": {},
   "outputs": [
    {
     "data": {
      "text/plain": [
       "array([0, 0, 0, ..., 0, 0, 0])"
      ]
     },
     "execution_count": 64,
     "metadata": {},
     "output_type": "execute_result"
    }
   ],
   "source": [
    "le = LabelEncoder()\n",
    "y = le.fit_transform(y)\n",
    "y"
   ]
  },
  {
   "cell_type": "markdown",
   "metadata": {},
   "source": [
    "## veryfing the quantity of 'neg' and 'pos'\n",
    "\n",
    "neg = trucks that had a defect in any system other than the air system.<br>\n",
    "pos = trucks that had defects in the air system.\n",
    "\n",
    "I veryfied that the class is unbalanced"
   ]
  },
  {
   "cell_type": "code",
   "execution_count": 65,
   "metadata": {},
   "outputs": [
    {
     "name": "stdout",
     "output_type": "stream",
     "text": [
      "class\n",
      "neg    15625\n",
      "pos      375\n",
      "Name: count, dtype: int64\n"
     ]
    }
   ],
   "source": [
    "#verificando quantidade de caminhões com defeito\n",
    "df_defeito = data['class'].value_counts()\n",
    "print(df_defeito)"
   ]
  },
  {
   "cell_type": "code",
   "execution_count": 66,
   "metadata": {},
   "outputs": [
    {
     "data": {
      "text/plain": [
       "([<matplotlib.axis.XTick at 0x14ec52502f0>,\n",
       "  <matplotlib.axis.XTick at 0x14ee26f0c50>],\n",
       " [Text(0, 0, 'sem defeito'), Text(1, 0, 'com defeito')])"
      ]
     },
     "execution_count": 66,
     "metadata": {},
     "output_type": "execute_result"
    },
    {
     "data": {
      "image/png": "[encoded data removed]",
      "text/plain": [
       "<Figure size 640x480 with 1 Axes>"
      ]
     },
     "metadata": {},
     "output_type": "display_data"
    }
   ],
   "source": [
    "plt.bar(x = df_defeito.index, height = df_defeito)\n",
    "plt.xticks([0,1],['sem defeito','com defeito'])"
   ]
  },
  {
   "cell_type": "markdown",
   "metadata": {},
   "source": [
    "## Balancing classes with SMOTE"
   ]
  },
  {
   "cell_type": "code",
   "execution_count": 67,
   "metadata": {},
   "outputs": [
    {
     "data": {
      "text/plain": [
       "0\n",
       "0    15625\n",
       "1    15625\n",
       "Name: count, dtype: int64"
      ]
     },
     "execution_count": 67,
     "metadata": {},
     "output_type": "execute_result"
    }
   ],
   "source": [
    "smote = SMOTE()\n",
    "X_balanced, y_balanced = smote.fit_resample(X, y)\n",
    "pd.DataFrame(y_balanced).value_counts()"
   ]
  },
  {
   "cell_type": "markdown",
   "metadata": {},
   "source": [
    "## Splitting the dataset into the Training set and Test set"
   ]
  },
  {
   "cell_type": "code",
   "execution_count": 68,
   "metadata": {},
   "outputs": [],
   "source": [
    "X_train, X_test, y_train, y_test = train_test_split(X_balanced, y_balanced, test_size = 0.2, random_state = 42)"
   ]
  },
  {
   "cell_type": "markdown",
   "metadata": {},
   "source": [
    "## Defining the models"
   ]
  },
  {
   "cell_type": "code",
   "execution_count": 69,
   "metadata": {},
   "outputs": [],
   "source": [
    "models = {\n",
    "    'Random Forest': RandomForestClassifier(),\n",
    "    'Decision Tree': DecisionTreeClassifier(),\n",
    "    'Logistic Regression': LogisticRegression(),\n",
    "}\n"
   ]
  },
  {
   "cell_type": "markdown",
   "metadata": {},
   "source": [
    "## training the models and displaying evaluation metrics"
   ]
  },
  {
   "cell_type": "code",
   "execution_count": 70,
   "metadata": {},
   "outputs": [
    {
     "name": "stdout",
     "output_type": "stream",
     "text": [
      "Training and evaluating the model: Random Forest\n",
      "ROC-AUC: 0.9999383873148546\n",
      "\n",
      "============================================================\n",
      "\n",
      "Training and evaluating the model: Decision Tree\n",
      "ROC-AUC: 0.9902961301292689\n",
      "\n",
      "============================================================\n",
      "\n",
      "Training and evaluating the model: Logistic Regression\n",
      "ROC-AUC: 0.9869878925696024\n",
      "\n",
      "============================================================\n",
      "\n"
     ]
    },
    {
     "name": "stderr",
     "output_type": "stream",
     "text": [
      "c:\\Users\\lucas.oliveira\\AppData\\Local\\Programs\\Python\\Python312\\Lib\\site-packages\\sklearn\\linear_model\\_logistic.py:469: ConvergenceWarning: lbfgs failed to converge (status=1):\n",
      "STOP: TOTAL NO. of ITERATIONS REACHED LIMIT.\n",
      "\n",
      "Increase the number of iterations (max_iter) or scale the data as shown in:\n",
      "    https://scikit-learn.org/stable/modules/preprocessing.html\n",
      "Please also refer to the documentation for alternative solver options:\n",
      "    https://scikit-learn.org/stable/modules/linear_model.html#logistic-regression\n",
      "  n_iter_i = _check_optimize_result(\n"
     ]
    }
   ],
   "source": [
    "\n",
    "for model_name, model in models.items():\n",
    "    print(f\"Training and evaluating the model: {model_name}\")\n",
    "    model.fit(X_train, y_train)\n",
    "\n",
    "    y_pred = model.predict(X_test)\n",
    "    y_proba = model.predict_proba(X_test)[:, 1]  # Get the probabilities for the positive class\n",
    "\n",
    "  \n",
    "    roc_auc = roc_auc_score(y_test, y_proba)\n",
    "\n",
    "    print(f\"ROC-AUC: {roc_auc}\")\n",
    "    print(\"\\n\" + \"=\"*60 + \"\\n\")\n",
    "    \n",
    "  "
   ]
  },
  {
   "cell_type": "markdown",
   "metadata": {},
   "source": [
    "## Challenge Activities"
   ]
  },
  {
   "cell_type": "markdown",
   "metadata": {},
   "source": [
    "### <strong>--Steps--</strong>\n",
    "#### <strong>1. Analyzing the problem</strong>\n",
    "\n",
    "The main issue in this scenario is the increasing maintenance costs related to the air system of the fleet trucks..<br>\n",
    "\n",
    "#### <strong>2. Exploratory Data Analysis</strong>\n",
    "\n",
    "During the dataset analysis, I located the features and the target variable, where I noticed that the 'class' field could serve as the target for predictions, as it indicates whether a truck has an air system defect.<br>\n",
    "\n",
    "#### <strong>3. Data Preprocessing</strong>\n",
    "\n",
    "As per the case description, missing values are denoted by 'na', so I replaced these with NaN.<br>\n",
    "\n",
    "Next, I handled these NaN values by replacing them with the mean of their respective columns. This approach was chosen to retain potentially valuable data without resorting to deletion, which could lead to information loss.<br>\n",
    "\n",
    "I observed that the 'class' field is in string format and contains only two values, 'pos' and 'neg'. Consequently, I utilized LabelEncoder to transform these categorical values into numerical equivalents (0 and 1).<br>\n",
    "\n",
    "Upon counting the categorical variables, I noted an imbalance. To address this, I applied SMOTE to balance the dataset. This method avoids the removal of data from the majority class, thereby preserving dataset integrity and maintaining model effectiveness.<br>\n",
    "\n",
    "I performed the data split for training and testing, dividing the data into 20% for testing and 80% for training, using RandomState 42 to keep the same values for the tests.<br>\n",
    "\n",
    "#### <strong>3. Training </strong>\n",
    "\n",
    "For the training, I defined three classification models to evaluate the performance: Random Forest, Decision Tree Classifier, and Logistic Regression.<br>\n",
    "\n",
    "#### <strong>4. Evaluation </strong>\n",
    "\n",
    "For the evaluation stage, I used the ROC AUC metric, which is a performance measure used in binary classification models, which is our case.<br>\n",
    "\n",
    "Among the three models, the best-performing model in the evaluation was the Random Forest model.<br>\n",
    "\n",
    "\n",
    "\n",
    "\n",
    "\n",
    "\n",
    "\n",
    "\n",
    "\n",
    "\n",
    "\n",
    "\n",
    "\n",
    "\n",
    "\n",
    "\n",
    "\n",
    "\n",
    "\n",
    "\n",
    "\n",
    "\n",
    "\n",
    "\n",
    "\n",
    "\n",
    "\n",
    "\n",
    "\n",
    "\n",
    "\n",
    "\n",
    "\n",
    "\n",
    "\n",
    "\n",
    "\n",
    "\n",
    "\n",
    "\n"
   ]
  }
 ],
 "metadata": {
  "kernelspec": {
   "display_name": "Python 3",
   "language": "python",
   "name": "python3"
  },
  "language_info": {
   "codemirror_mode": {
    "name": "ipython",
    "version": 3
   },
   "file_extension": ".py",
   "mimetype": "text/x-python",
   "name": "python",
   "nbconvert_exporter": "python",
   "pygments_lexer": "ipython3",
   "version": "3.12.0"
  }
 },
 "nbformat": 4,
 "nbformat_minor": 2
}
